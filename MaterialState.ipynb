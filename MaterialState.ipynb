{
 "cells": [
  {
   "cell_type": "markdown",
   "metadata": {},
   "source": [
    "### Material State\n",
    "\n",
    "Many mechanical constitutive models require the storage of solution-dependent state variables (plastic strains, “back stress,” saturation values, etc. in rate constitutive forms or historical data for theories written in integral form). You should allocate storage for these variables in the associated material definition (see [Allocating Space for Solution-Dependent State Variables](https://help.3ds.com/2023/english/dssimulia_established/SIMACAEANLRefMap/simaanl-c-subroutineover.htm?contextscope=all#simaanl-c-usubrout-allocatespace) ). There is no restriction on the number of state variables associated with a user-defined material.\n",
    "\n",
    "The user material subroutines are provided with the material state at the start of each increment, as described below. They must return values for the new stresses and the new internal state variables. State variables associated with UMAT and VUMAT can be output to the output database file (.odb) and results file (.fil) using the output identifiers SDV and SDVn (see Abaqus/Standard Output Variable Identifiers and Abaqus/Explicit Output Variable Identifiers)."
   ]
  }
 ],
 "metadata": {
  "language_info": {
   "name": "python"
  }
 },
 "nbformat": 4,
 "nbformat_minor": 2
}
